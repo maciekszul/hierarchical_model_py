{
 "cells": [
  {
   "cell_type": "markdown",
   "metadata": {},
   "source": [
    "https://twiecki.io/blog/2013/08/12/bayesian-glms-1/\n",
    "\n",
    "https://twiecki.io/blog/2013/08/27/bayesian-glms-2/\n",
    "\n",
    "https://twiecki.io/blog/2014/03/17/bayesian-glms-3/\n",
    "\n",
    "https://docs.pymc.io/notebooks/getting_started.html\n",
    "\n",
    "https://docs.pymc.io/notebooks/multilevel_modeling.html\n",
    "\n",
    "https://docs.pymc.io/notebooks/GLM-hierarchical.html\n",
    "\n",
    "https://vincentarelbundock.github.io/Rdatasets/datasets.html\n",
    "\n",
    "picking priors: http://www.stat.columbia.edu/~gelman/research/published/taumain.pdf"
   ]
  },
  {
   "cell_type": "code",
   "execution_count": 89,
   "metadata": {},
   "outputs": [],
   "source": [
    "%matplotlib inline\n",
    "\n",
    "from pymc3 import  *\n",
    "\n",
    "import numpy as np\n",
    "import matplotlib.pyplot as plt\n",
    "from matplotlib import gridspec\n",
    "import pandas as pd\n",
    "import subprocess as sp\n",
    "import statsmodels.api as sm\n",
    "import os.path as op"
   ]
  },
  {
   "cell_type": "markdown",
   "metadata": {},
   "source": [
    "# REGRESSION"
   ]
  },
  {
   "cell_type": "code",
   "execution_count": 44,
   "metadata": {},
   "outputs": [
    {
     "data": {
      "text/plain": [
       "0"
      ]
     },
     "execution_count": 44,
     "metadata": {},
     "output_type": "execute_result"
    }
   ],
   "source": [
    "dataset_link = \"https://vincentarelbundock.github.io/Rdatasets/csv/carData/Davis.csv\"\n",
    "dataset_filename = dataset_link.split(\"/\")[-1]\n",
    "location = %pwd\n",
    "\n",
    "sp.call([\"wget\", \"-N\", dataset_link, \"-P\", location])"
   ]
  },
  {
   "cell_type": "code",
   "execution_count": 45,
   "metadata": {},
   "outputs": [
    {
     "name": "stdout",
     "output_type": "stream",
     "text": [
      "['Unnamed: 0', 'sex', 'weight', 'height', 'repwt', 'repht']\n"
     ]
    }
   ],
   "source": [
    "dataset = pd.read_csv(dataset_filename)\n",
    "print(list(dataset))"
   ]
  },
  {
   "cell_type": "code",
   "execution_count": 62,
   "metadata": {},
   "outputs": [
    {
     "data": {
      "text/plain": [
       "''"
      ]
     },
     "execution_count": 62,
     "metadata": {},
     "output_type": "execute_result"
    },
    {
     "data": {
      "image/png": "[encoded data removed]",
      "text/plain": [
       "<Figure size 936x288 with 2 Axes>"
      ]
     },
     "metadata": {
      "needs_background": "light"
     },
     "output_type": "display_data"
    }
   ],
   "source": [
    "gs = gridspec.GridSpec(1, 2, width_ratios=[1, 1])\n",
    "gs.update(wspace = 0.4, hspace = 0.4)\n",
    "fig = plt.figure(figsize=(13, 4))\n",
    "\n",
    "ax0 = plt.subplot(gs[0])\n",
    "ax0.scatter(dataset.repwt, dataset.weight, marker=\"o\", edgecolors=\"white\", c=\"blue\")\n",
    "ax0.set_xlabel(\"Reported weight\")\n",
    "ax0.set_ylabel(\"Actual weight\")\n",
    "\n",
    "ax1 = plt.subplot(gs[1])\n",
    "ax1.scatter(dataset.repht, dataset.height, marker=\"o\", edgecolors=\"white\", c=\"blue\")\n",
    "ax1.set_xlabel(\"Reported height\")\n",
    "ax1.set_ylabel(\"Actual height\")\n",
    ";"
   ]
  },
  {
   "cell_type": "markdown",
   "metadata": {},
   "source": [
    "### Frequentist linear regression\n",
    "## $Y =X\\beta + \\epsilon$<br>\n",
    "$Y$ - predicted output, dependent variable<br>\n",
    "$X$ - predictor, independent variable<br>\n",
    "$\\beta$ - model parementer, coefficient<br>\n",
    "$\\epsilon$ - error term (normally distributed)<br>\n",
    "\n",
    "Fitting method: ordinary least squares, maximum likelihood"
   ]
  },
  {
   "cell_type": "code",
   "execution_count": 92,
   "metadata": {},
   "outputs": [
    {
     "name": "stderr",
     "output_type": "stream",
     "text": [
      "/home/maciek/miniconda3/envs/stat/lib/python3.7/site-packages/numpy/core/fromnumeric.py:2223: FutureWarning: Method .ptp is deprecated and will be removed in a future version. Use numpy.ptp instead.\n",
      "  return ptp(axis=axis, out=out, **kwargs)\n"
     ]
    }
   ],
   "source": [
    "x = dataset.weight\n",
    "Y = dataset.repht\n",
    "X = sm.add_constant(x)\n",
    "model = sm.OLS(Y, X,)\n",
    "results = model.fit()"
   ]
  },
  {
   "cell_type": "code",
   "execution_count": null,
   "metadata": {},
   "outputs": [],
   "source": []
  }
 ],
 "metadata": {
  "kernelspec": {
   "display_name": "Python 3",
   "language": "python",
   "name": "python3"
  },
  "language_info": {
   "codemirror_mode": {
    "name": "ipython",
    "version": 3
   },
   "file_extension": ".py",
   "mimetype": "text/x-python",
   "name": "python",
   "nbconvert_exporter": "python",
   "pygments_lexer": "ipython3",
   "version": "3.7.2"
  }
 },
 "nbformat": 4,
 "nbformat_minor": 2
}
